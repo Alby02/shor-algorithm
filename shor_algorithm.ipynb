{
 "cells": [
  {
   "metadata": {
    "ExecuteTime": {
     "end_time": "2025-01-25T13:11:17.572894Z",
     "start_time": "2025-01-25T13:11:15.118998Z"
    }
   },
   "cell_type": "code",
   "source": [
    "# Print library version\n",
    "import qiskit\n",
    "import qiskit_aer\n",
    "import qiskit_ibm_runtime\n",
    "\n",
    "print(f\"Qiskit Version: {qiskit.__version__}\")\n",
    "print(f\"Qiskit-aer Version: {qiskit_aer.__version__}\")\n",
    "print(f\"Qiskit-ibm-runtime Version: {qiskit_ibm_runtime.__version__}\")\n"
   ],
   "id": "1e5fc1949659fb56",
   "outputs": [
    {
     "name": "stdout",
     "output_type": "stream",
     "text": [
      "Qiskit Version: 1.3.2\n",
      "Qiskit-aer Version: 0.16.0\n",
      "Qiskit-ibm-runtime Version: 0.34.0\n"
     ]
    }
   ],
   "execution_count": 1
  },
  {
   "metadata": {
    "collapsed": true,
    "ExecuteTime": {
     "end_time": "2025-01-25T13:11:17.586386Z",
     "start_time": "2025-01-25T13:11:17.581900Z"
    }
   },
   "cell_type": "code",
   "source": [
    "#Import all the needed library\n",
    "\n",
    "import numpy as np\n",
    "from qiskit import QuantumCircuit, QuantumRegister, ClassicalRegister\n",
    "from qiskit.circuit.library import QFT\n",
    "from qiskit_aer import AerSimulator, QasmSimulator\n",
    "from qiskit.primitives import Sampler\n",
    "from qiskit_ibm_runtime import QiskitRuntimeService, IBMBackend\n",
    "from math import gcd\n",
    "from random import randint\n",
    "from fractions import Fraction\n"
   ],
   "id": "initial_id",
   "outputs": [],
   "execution_count": 2
  },
  {
   "metadata": {
    "ExecuteTime": {
     "end_time": "2025-01-25T13:11:17.993174Z",
     "start_time": "2025-01-25T13:11:17.989174Z"
    }
   },
   "cell_type": "code",
   "source": [
    "# Load the ibm token if needed\n",
    "\n",
    "def get_backend_service() -> QiskitRuntimeService:\n",
    "    file = open(\"token_loaded.txt\", \"r\")\n",
    "    token_loaded = bool(file.read())\n",
    "    file.close()\n",
    "    if not token_loaded:\n",
    "        file = open(\"token.txt\", \"r\")\n",
    "        ibm_token = file.read()\n",
    "        QiskitRuntimeService.save_account( ibm_token, channel = 'ibm_quantum', overwrite=True )\n",
    "        file = open(\"token_loaded.txt\", \"w\")\n",
    "        file.write(\"True\")\n",
    "        file.close()\n",
    "    return QiskitRuntimeService()\n"
   ],
   "id": "42d519f3f6b8e709",
   "outputs": [],
   "execution_count": 3
  },
  {
   "metadata": {
    "ExecuteTime": {
     "end_time": "2025-01-25T13:11:24.378874Z",
     "start_time": "2025-01-25T13:11:17.999823Z"
    }
   },
   "cell_type": "code",
   "source": [
    "# load ibm service\n",
    "ibm_service = get_backend_service()\n"
   ],
   "id": "6167d6fab0eee721",
   "outputs": [],
   "execution_count": 4
  },
  {
   "metadata": {
    "ExecuteTime": {
     "end_time": "2025-01-25T13:11:30.356293Z",
     "start_time": "2025-01-25T13:11:24.386387Z"
    }
   },
   "cell_type": "code",
   "source": [
    "# Print available backend\n",
    "\n",
    "print(\"\\nBackend disponibili:\")\n",
    "for available_backend in ibm_service.backends():\n",
    "    print(f\"- {available_backend.name}: {available_backend.status().pending_jobs} jobs in coda\")\n"
   ],
   "id": "e634aa0a37ff75a3",
   "outputs": [
    {
     "name": "stdout",
     "output_type": "stream",
     "text": [
      "\n",
      "Backend disponibili:\n",
      "- ibm_brisbane: 62 jobs in coda\n",
      "- ibm_kyiv: 11 jobs in coda\n",
      "- ibm_sherbrooke: 86 jobs in coda\n"
     ]
    }
   ],
   "execution_count": 5
  },
  {
   "metadata": {
    "ExecuteTime": {
     "end_time": "2025-01-25T13:11:33.646151Z",
     "start_time": "2025-01-25T13:11:33.641621Z"
    }
   },
   "cell_type": "code",
   "source": [
    "# select the least busy quantum computer\n",
    "\n",
    "def get_least_busy_backend(service: QiskitRuntimeService) -> IBMBackend:\n",
    "    \"\"\"Returns the backend with the smallest number of pending jobs.\"\"\"\n",
    "    backends = service.backends()  # Get all available backends\n",
    "    least_busy_backend = backends[0]\n",
    "    min_pending_jobs = least_busy_backend.status().pending_jobs\n",
    "\n",
    "    for backend in backends[1:]:\n",
    "        status = backend.status()\n",
    "        pending_jobs = status.pending_jobs\n",
    "\n",
    "        if pending_jobs < min_pending_jobs:\n",
    "            min_pending_jobs = pending_jobs\n",
    "            least_busy_backend = backend\n",
    "\n",
    "    return least_busy_backend\n"
   ],
   "id": "e935f6f69db7dc35",
   "outputs": [],
   "execution_count": 6
  },
  {
   "metadata": {
    "ExecuteTime": {
     "end_time": "2025-01-25T13:11:35.379809Z",
     "start_time": "2025-01-25T13:11:33.656448Z"
    }
   },
   "cell_type": "code",
   "source": [
    "# print current least busy backend\n",
    "\n",
    "current_least_busy_backend = get_least_busy_backend(ibm_service)\n",
    "print(f\"Backend: {current_least_busy_backend.name}, Pending Jobs: {current_least_busy_backend.status().pending_jobs}\")\n"
   ],
   "id": "6f5b8fdbd5fb4061",
   "outputs": [
    {
     "name": "stdout",
     "output_type": "stream",
     "text": [
      "Backend: ibm_kyiv, Pending Jobs: 16\n"
     ]
    }
   ],
   "execution_count": 7
  },
  {
   "metadata": {
    "ExecuteTime": {
     "end_time": "2025-01-25T13:11:39.171159Z",
     "start_time": "2025-01-25T13:11:39.165682Z"
    }
   },
   "cell_type": "code",
   "source": [
    "# shor number theory\n",
    "\n",
    "def period_to_factor(N:int, a:int , r:int ):\n",
    "    if r % 2 == 0 and pow(a, r // 2, N) not in [-1 % N, 1]:\n",
    "        factor1 = gcd(pow(a, r // 2, N) + 1, N)\n",
    "        factor2 = gcd(pow(a, r // 2, N) - 1, N)\n",
    "        return factor1, factor2\n",
    "    else:\n",
    "        raise Exception(\"Not a valid period\")\n"
   ],
   "id": "ed03a128ed158b35",
   "outputs": [],
   "execution_count": 8
  },
  {
   "metadata": {
    "ExecuteTime": {
     "end_time": "2025-01-25T13:11:39.181838Z",
     "start_time": "2025-01-25T13:11:39.177671Z"
    }
   },
   "cell_type": "code",
   "source": [
    "# find a (coprime number for N)\n",
    "\n",
    "def find_a(N:int) -> int:\n",
    "    while True:\n",
    "        a = randint(2, N - 1)  # Random integer in [2, N-1]\n",
    "        d = gcd(a, N)\n",
    "        if d == 1:\n",
    "            return a  # Valid a found\n"
   ],
   "id": "77b771248e6259f5",
   "outputs": [],
   "execution_count": 9
  },
  {
   "metadata": {
    "ExecuteTime": {
     "end_time": "2025-01-25T13:11:39.192578Z",
     "start_time": "2025-01-25T13:11:39.188390Z"
    }
   },
   "cell_type": "code",
   "source": [
    "# uses the calculated quantum phase to calculate the period\n",
    "\n",
    "def phase_to_period(phase:float, N:int) -> int:\n",
    "    fraction = Fraction(phase).limit_denominator(N)\n",
    "    return fraction.denominator\n"
   ],
   "id": "1d7375d1d97709e2",
   "outputs": [],
   "execution_count": 10
  },
  {
   "metadata": {},
   "cell_type": "code",
   "outputs": [],
   "execution_count": null,
   "source": "",
   "id": "e23186b5b52da452"
  }
 ],
 "metadata": {
  "kernelspec": {
   "display_name": "Python 3",
   "language": "python",
   "name": "python3"
  },
  "language_info": {
   "codemirror_mode": {
    "name": "ipython",
    "version": 2
   },
   "file_extension": ".py",
   "mimetype": "text/x-python",
   "name": "python",
   "nbconvert_exporter": "python",
   "pygments_lexer": "ipython2",
   "version": "2.7.6"
  }
 },
 "nbformat": 4,
 "nbformat_minor": 5
}
